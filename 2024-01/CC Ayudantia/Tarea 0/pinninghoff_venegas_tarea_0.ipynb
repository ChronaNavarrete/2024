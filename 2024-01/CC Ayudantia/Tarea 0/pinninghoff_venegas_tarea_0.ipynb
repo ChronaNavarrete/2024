{
 "cells": [
  {
   "cell_type": "markdown",
   "metadata": {
    "id": "UwEmdYX0nTEJ"
   },
   "source": [
    "# INF285 - Computación Científica\n",
    "# Tarea 0 - Parte 2\n",
    "## 21-22 de marzo de 2024"
   ]
  },
  {
   "cell_type": "markdown",
   "metadata": {
    "id": "7ls7_KJanbDM"
   },
   "source": [
    "## Estimación de pi\n",
    "\n",
    "Esta famosa constante matemática $\\pi = 3.14159265359$ podemos estimarla utilizando el método de Monte Carlo, el cual consiste en obtener una cantidad de muestras aleatorias para realizar un cálculo numérico. En este caso obtendremos muestras aleatorias para obtener una estimación de $\\pi$.\n",
    "\n",
    "La idea es simular puntos aleatorios $(x,y)$ dentro de un cuarto de circunferencia de radio $1$. El objetivo es contar la cantidad de puntos que hay en el cuarto de circunferencia, de tal forma de encontrar una relación entre el área del cuarto de circunferencia y el área total de muestreo.\n",
    "\n",
    "En el siguiente gráfico se muestra una idea:"
   ]
  },
  {
   "cell_type": "markdown",
   "metadata": {
    "id": "8de9UdDaxjFD"
   },
   "source": [
    "![pi_estimation.png](data:image/png;base64,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)"
   ]
  },
  {
   "cell_type": "markdown",
   "metadata": {
    "id": "G7malCjKnpkS"
   },
   "source": [
    "Sabemos que el área del espacio de muestreo es $1$, mientras que el área del cuarto de circunferencia es $\\pi/4$. Por lo tanto la razón entre las áreas es:\n",
    "$$\n",
    "\\dfrac{\\text{area cuarto de circunferencia}}{\\text{area total}} = \\dfrac{\\pi/4}{1}\n",
    "$$\n",
    "\n",
    "Luego si tomamos una gran cantidad de muestras aleatorias, entonces:\n",
    "$$\n",
    "\\dfrac{\\text{area cuarto de circunferencia}}{\\text{area total}} = \\dfrac{\\text{cantidad de puntos dentro del cuarto de circunferencia}}{\\text{cantidad de muestras totales}} = \\pi/4\n",
    "$$\n",
    "Entonces podemos estimar $\\pi$ como:\n",
    "$$\n",
    "\\pi \\approx \\dfrac{4 \\times \\text{cantidad de puntos dentro del cuarto de circunferencia}}{\\text{cantidad de muestras totales}}\n",
    "$$\n",
    "\n",
    "A continuación se muestra un código que estima $\\pi$ utilizando list comprehension:"
   ]
  },
  {
   "cell_type": "code",
   "execution_count": 29,
   "metadata": {
    "id": "VDT8Jwr09eKd"
   },
   "outputs": [],
   "source": [
    "import numpy as np\n",
    "import matplotlib.pyplot as plt\n",
    "from random import random\n",
    "from scipy.integrate import quad"
   ]
  },
  {
   "cell_type": "code",
   "execution_count": 30,
   "metadata": {
    "id": "SzjbOuiu9j6p"
   },
   "outputs": [],
   "source": [
    "'''\n",
    "input\n",
    "n    : (int)    number of random points.\n",
    "\n",
    "output\n",
    "pi_a : (double) approximation of pi.\n",
    "'''\n",
    "def calcular_pi_list(n):\n",
    "    np.random.seed(seed=9999)\n",
    "    x = [random() for i in range(n)]\n",
    "    y = [random() for i in range(n)]\n",
    "\n",
    "    d = [x[i]**2 + y[i]**2 for i in range(n)]\n",
    "    inside = 0\n",
    "    for i in range(n):\n",
    "        if d[i] < 1:\n",
    "            inside += 1\n",
    "    pi_a = 4*inside / n\n",
    "    return pi_a"
   ]
  },
  {
   "cell_type": "markdown",
   "metadata": {
    "id": "6Z-FVfYn9wIO"
   },
   "source": [
    "Podemos calcular el tiempo que se demora estimar $\\pi$ con list comprehension utilizando $10000$ muestras aleatorias"
   ]
  },
  {
   "cell_type": "code",
   "execution_count": 31,
   "metadata": {
    "id": "9LC4TIsV9w3V"
   },
   "outputs": [
    {
     "name": "stdout",
     "output_type": "stream",
     "text": [
      "3.09 ms ± 192 µs per loop (mean ± std. dev. of 7 runs, 100 loops each)\n"
     ]
    }
   ],
   "source": [
    "#tiempo de función con lista\n",
    "t1 = %timeit -o calcular_pi_list(10000)"
   ]
  },
  {
   "cell_type": "markdown",
   "metadata": {
    "id": "wkUdlG-6916m"
   },
   "source": [
    "**Pregunta 1 (20 puntos)**\n",
    "Construya la función *calcular_pi_array(n)* que estime el valor de $\\pi$ utilizando `numpy array` y considerando $n$ muestras aleatorias. Usted debe utilizar la siguiente firma:"
   ]
  },
  {
   "cell_type": "code",
   "execution_count": 32,
   "metadata": {
    "id": "m6iAFbXu93z0"
   },
   "outputs": [],
   "source": [
    "'''\n",
    "input\n",
    "n    : (int)    number of random points.\n",
    "\n",
    "output\n",
    "pi_a : (double) approximation of pi.\n",
    "'''\n",
    "def calcular_pi_array(n):\n",
    "    np.random.seed(seed=9999)\n",
    "    #acá va su código\n",
    "    #--------------------------------\n",
    "    x = np.random.random(n)\n",
    "    y = np.random.random(n)\n",
    "\n",
    "    d = x**2 + y**2\n",
    "    inside = np.sum(d < 1)\n",
    "    #--------------------------------\n",
    "    pi_a = 4*inside / n\n",
    "    return pi_a"
   ]
  },
  {
   "cell_type": "markdown",
   "metadata": {
    "id": "93gE0xWi-Bno"
   },
   "source": [
    "Podemos calcular el tiempo que se demora estimar $\\pi$ con `numpy array` utilizando $10000$ muestras aleatorias."
   ]
  },
  {
   "cell_type": "code",
   "execution_count": 33,
   "metadata": {
    "id": "qh9OFvE3-GWf"
   },
   "outputs": [
    {
     "name": "stdout",
     "output_type": "stream",
     "text": [
      "98.5 µs ± 3.4 µs per loop (mean ± std. dev. of 7 runs, 10,000 loops each)\n"
     ]
    }
   ],
   "source": [
    "#tiempo de función con array\n",
    "t2 = %timeit -o calcular_pi_array(10000)"
   ]
  },
  {
   "cell_type": "markdown",
   "metadata": {
    "id": "whohcumW-P1m"
   },
   "source": [
    "Se calcula las veces que estimar $\\pi$ con `numpy array` es mejor que con list comprehension."
   ]
  },
  {
   "cell_type": "code",
   "execution_count": 34,
   "metadata": {
    "id": "z0eqogK3-QhY"
   },
   "outputs": [
    {
     "data": {
      "text/plain": [
       "31.355962519418746"
      ]
     },
     "execution_count": 34,
     "metadata": {},
     "output_type": "execute_result"
    }
   ],
   "source": [
    "t1.average/t2.average"
   ]
  },
  {
   "cell_type": "markdown",
   "metadata": {
    "id": "2heI15nb-Sqv"
   },
   "source": [
    "La función que acaba de escribir, se vectoriza."
   ]
  },
  {
   "cell_type": "code",
   "execution_count": 35,
   "metadata": {
    "id": "-s0QUCdT-Vip"
   },
   "outputs": [],
   "source": [
    "#se vectoriza la función\n",
    "calcular_pi_array_vec = np.vectorize(calcular_pi_array)"
   ]
  },
  {
   "cell_type": "markdown",
   "metadata": {
    "id": "9xxiN5bM-YWJ"
   },
   "source": [
    "**Pregunta 2 (20 puntos)**\n",
    "El error exacto $E_e(n)$ utilizando $n$ muestras aleatorias, viene dado por:\n",
    "$$\n",
    "E_e(n) = |\\pi - \\pi_n|\n",
    "$$\n",
    "donde $\\pi_n$ es la estimación de $\\pi$ utilizando $n$ muestras aleatorias.\n",
    "Por otro lado, $E_a(n)$ es el error de aproximación de la estimación de $\\pi$ utilizando $n$ muestras aleatorias:\n",
    "$$\n",
    "E_a(n) = |\\pi_{n_{max}} - \\pi_n|\n",
    "$$\n",
    "donde $\\pi_{n_{max}}$ es la estimación de $\\pi$ utilizando la máxima cantidad de muestras aleatorias.\n",
    "Al graficar estos errores para cada $n$ en escala logarítmica, se puede observar que tienen una tendencia lineal. Al ejecutar el siguiente código usted notará la distribución de los errores:"
   ]
  },
  {
   "cell_type": "code",
   "execution_count": 36,
   "metadata": {
    "id": "XuKuKhQL-bD7"
   },
   "outputs": [
    {
     "data": {
      "image/png": "[encoded data removed]",
      "text/plain": [
       "<Figure size 432x288 with 1 Axes>"
      ]
     },
     "metadata": {
      "needs_background": "light"
     },
     "output_type": "display_data"
    }
   ],
   "source": [
    "#plotear la curva del error exacto y aproximado\n",
    "n = np.logspace(2,5,50,dtype=int)\n",
    "pi_n = calcular_pi_array_vec(n)\n",
    "\n",
    "error_ex = np.abs(np.pi-pi_n)\n",
    "plt.loglog(n,error_ex,\"bo\",label=r\"$E_e(n)$\")\n",
    "\n",
    "error_ap = np.abs(pi_n[-1] - pi_n[:-1])\n",
    "plt.loglog(n[:-1],error_ap,\"rx\",label=r\"$E_a(n)$\")\n",
    "\n",
    "plt.xlabel(r\"$n$\")\n",
    "plt.legend()\n",
    "plt.grid()\n",
    "plt.show()"
   ]
  },
  {
   "cell_type": "markdown",
   "metadata": {
    "id": "eyu7xuHm-hqI"
   },
   "source": [
    "Entonces el error viene dado por una función de potencia $E = c\\,n^\\alpha$. Aplicando logaritmo se obtiene que:\n",
    "$$\n",
    "\\log(E) = \\log(c) + \\alpha\\,\\log(n)\n",
    "$$\n",
    "Se solicita entonces, obtener el valor de $\\alpha$ mediante el uso de *regresión lineal*. Este valor es la pendiente de la recta de regresión que pasa por los puntos graficados anteriormente. Debe realizar este cálculo tanto para el error exacto como para el error de aproximación. Usted debe usar la siguiente firma:"
   ]
  },
  {
   "cell_type": "code",
   "execution_count": 37,
   "metadata": {
    "id": "ejPOKr1v-v8j"
   },
   "outputs": [],
   "source": [
    "#calcular pendiente de la curva de la regresión para el error exacto\n",
    "'''\n",
    "input\n",
    "n_arr    :(ndarray) array with n values.\n",
    "error_ex :(ndarray) array with n exact errors.\n",
    "\n",
    "output\n",
    "alpha    :(double)  slope of regression line.\n",
    "'''\n",
    "def errorExacto_slope(n_arr,error_ex):\n",
    "  #acá va su código\n",
    "  #--------------------------------\n",
    "  log_n = np.log(n_arr)\n",
    "  log_error_ex = np.log(error_ex)\n",
    "\n",
    "  alpha, _ = np.polyfit(log_n,log_error_ex,1)\n",
    "  #--------------------------------\n",
    "  return alpha"
   ]
  },
  {
   "cell_type": "code",
   "execution_count": 38,
   "metadata": {
    "id": "gEetgrQo_j95"
   },
   "outputs": [],
   "source": [
    "#calcular pendiente de la curva de la regresión para el error aproximado\n",
    "'''\n",
    "input\n",
    "n_arr    :(ndarray) array with n values.\n",
    "error_ap :(ndarray) array with n approximation errors.\n",
    "\n",
    "output\n",
    "alpha    :(double)  slope of regression line.\n",
    "'''\n",
    "def errorAprox_slope(n_arr,error_ap):\n",
    "  #acá va su código\n",
    "  #--------------------------------\n",
    "  log_n = np.log(n_arr)\n",
    "  log_error_ap = np.log(error_ap)\n",
    "\n",
    "  alpha, _ = np.polyfit(log_n,log_error_ap,1)\n",
    "  #--------------------------------\n",
    "  return alpha"
   ]
  },
  {
   "cell_type": "markdown",
   "metadata": {
    "id": "F-Vts-q3_t-f"
   },
   "source": [
    "**Pregunta 3**\n",
    "Sea la integral,\n",
    "$$\n",
    "I = \\int_{2\\pi}^{11\\pi/4} g(t)\\,dt = \\int_{2\\pi}^{11\\pi/4} (3\\sin(t) + \\cos(t))\\,dt\n",
    "$$\n",
    "donde $2\\pi \\leq t \\leq 11\\pi/4$ y $0 \\leq g(t) \\leq 4$.\n",
    "\n",
    "**3.1 (20 puntos)** Utilizando el método de Monte Carlo aplicado anteriormente para la estimación de $\\pi$, estime la integral $I$ utilizando $n$ muestras aleatorias. Usted debe utilizar la siguiente firma:"
   ]
  },
  {
   "cell_type": "code",
   "execution_count": 39,
   "metadata": {
    "id": "_MS1x9NP_yBL"
   },
   "outputs": [],
   "source": [
    "#calcular la integral de f(x) utilizando el método de Monte Carlo\n",
    "'''\n",
    "input\n",
    "n     :(int)    number of points.\n",
    "\n",
    "output\n",
    "e_int :(double) estimation of integral.\n",
    "'''\n",
    "def estimar_integral(n):\n",
    "    np.random.seed(seed=9999)\n",
    "    #acá va su código\n",
    "    #--------------------------------\n",
    "    g = lambda t: 3*np.sin(t) + np.cos(t)\n",
    "    \n",
    "    t_min = 2*np.pi\n",
    "    t_max = 11*np.pi/4\n",
    "    g_max = 4\n",
    "\n",
    "    t_rand = np.random.uniform(t_min, t_max, n)\n",
    "    g_rand = np.random.uniform(0, g_max, n)\n",
    "\n",
    "    bajo_curva = g_rand < g(t_rand)\n",
    "    proporcion_bajo_curva = np.mean(bajo_curva)\n",
    "\n",
    "    e_int = (t_max - t_min) * g_max * proporcion_bajo_curva\n",
    "    #--------------------------------\n",
    "    return e_int"
   ]
  },
  {
   "cell_type": "markdown",
   "metadata": {
    "id": "CJsLkbtGADiy"
   },
   "source": [
    "**3.2 (15 puntos)** Grafique el error de aproximación $E_a(n)$ para la estimación de la integral $I$ para $n \\in [10^2,10^6]$. Usted debe utilizar la siguiente firma, donde ```f``` es la función que estima la integral $I$ y ```m``` es la cantidad de errores a graficar.  "
   ]
  },
  {
   "cell_type": "code",
   "execution_count": 40,
   "metadata": {
    "id": "QY7s2cbmALwn"
   },
   "outputs": [
    {
     "data": {
      "image/png": "[encoded data removed]",
      "text/plain": [
       "<Figure size 720x432 with 1 Axes>"
      ]
     },
     "metadata": {
      "needs_background": "light"
     },
     "output_type": "display_data"
    }
   ],
   "source": [
    "'''\n",
    "input\n",
    "m     :(int)      number of errors to plot.\n",
    "f     :(callable) function that estimates the integral.\n",
    "'''\n",
    "def plot_error_ap(m,f):\n",
    "  #acá va su código\n",
    "  #--------------------------------\n",
    "  f_vector = np.vectorize(f)\n",
    "\n",
    "  g = lambda t: 3*np.sin(t) + np.cos(t)\n",
    "  t_min = 2*np.pi\n",
    "  t_max = 11*np.pi/4\n",
    "\n",
    "  I_exact, _ = quad(g, t_min, t_max)\n",
    "  n_values = np.logspace(2, 6, m).astype(int)\n",
    "\n",
    "  errors = np.abs(f_vector(n_values) - I_exact)\n",
    "\n",
    "  plt.figure(figsize=(10, 6))\n",
    "  plt.loglog(n_values, errors, marker='o')\n",
    "  plt.grid(True)\n",
    "  plt.show()\n",
    "  #--------------------------------\n",
    "  plt.show()\n",
    "\n",
    "m = 50\n",
    "plot_error_ap(m,estimar_integral)"
   ]
  },
  {
   "cell_type": "markdown",
   "metadata": {
    "id": "8TDSdASaBmRj"
   },
   "source": [
    "**3.3 (15 puntos)** Calcule el valor de $\\alpha$ utilizando *regresión lineal* para la recta de regresión del error de aproximación. Usted debe utilizar la siguiente firma:"
   ]
  },
  {
   "cell_type": "code",
   "execution_count": 41,
   "metadata": {
    "id": "W4Ejl4QhBpBT"
   },
   "outputs": [],
   "source": [
    "#cálculo de alpha\n",
    "'''\n",
    "input\n",
    "n_arr    :(ndarray) array with n values.\n",
    "error_ap :(ndarray) array with n approximation errors.\n",
    "\n",
    "output\n",
    "alpha    :(double)  slope of regression line.\n",
    "'''\n",
    "def error_slope(n_arr,error_ap):\n",
    "  #acá va su código\n",
    "  #--------------------------------\n",
    "  log_n = np.log(n_arr)\n",
    "  log_error_ap = np.log(error_ap)\n",
    "\n",
    "  alpha, _ = np.polyfit(log_n,log_error_ap,1)\n",
    "  #--------------------------------\n",
    "  return alpha"
   ]
  }
 ],
 "metadata": {
  "colab": {
   "authorship_tag": "ABX9TyOCXpzxpUUzvonW35UrVpQT",
   "provenance": []
  },
  "kernelspec": {
   "display_name": "Python 3 (ipykernel)",
   "language": "python",
   "name": "python3"
  },
  "language_info": {
   "codemirror_mode": {
    "name": "ipython",
    "version": 3
   },
   "file_extension": ".py",
   "mimetype": "text/x-python",
   "name": "python",
   "nbconvert_exporter": "python",
   "pygments_lexer": "ipython3",
   "version": "3.10.4"
  }
 },
 "nbformat": 4,
 "nbformat_minor": 4
}
